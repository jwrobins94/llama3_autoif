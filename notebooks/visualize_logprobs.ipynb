{
 "cells": [
  {
   "cell_type": "code",
   "execution_count": null,
   "metadata": {},
   "outputs": [],
   "source": [
    "from IPython.core.display import HTML\n",
    "import numpy as np"
   ]
  },
  {
   "cell_type": "code",
   "execution_count": 5,
   "metadata": {},
   "outputs": [],
   "source": [
    "def score_to_bg_color(score: float) -> str:\n",
    "    if score > 0:\n",
    "        green = int(255 * score)\n",
    "        return f'rgb({255-green},255,{255-green})'\n",
    "    elif score < 0:\n",
    "        red = int(255 * abs(score))\n",
    "        return f'rgb(255,{255-red},{255-red})'\n",
    "    else:\n",
    "        return 'rgb(255,255,255)'"
   ]
  },
  {
   "cell_type": "code",
   "execution_count": 9,
   "metadata": {},
   "outputs": [],
   "source": [
    "def visualize_tokens(tokens: list[str], scores: list[float]) -> None:\n",
    "    html_content = ''\n",
    "    for token, score in zip(tokens, scores):\n",
    "        bgcolor = score_to_bg_color(score)\n",
    "        html_content += f'<span style=\"background-color: {bgcolor}; padding: 2px;\">{token} </span>'\n",
    "\n",
    "    display(HTML(html_content))"
   ]
  },
  {
   "cell_type": "code",
   "execution_count": 10,
   "metadata": {},
   "outputs": [],
   "source": [
    "tokens = \"This is a simple example sentence for color visualization\".split()\n",
    "scores = np.random.uniform(-1, 1, len(tokens))\n"
   ]
  },
  {
   "cell_type": "code",
   "execution_count": 11,
   "metadata": {},
   "outputs": [
    {
     "data": {
      "text/html": [
       "<span style=\"background-color: rgb(255,208,208); padding: 2px;\">This </span><span style=\"background-color: rgb(255,33,33); padding: 2px;\">is </span><span style=\"background-color: rgb(255,231,231); padding: 2px;\">a </span><span style=\"background-color: rgb(255,156,156); padding: 2px;\">simple </span><span style=\"background-color: rgb(18,255,18); padding: 2px;\">example </span><span style=\"background-color: rgb(255,78,78); padding: 2px;\">sentence </span><span style=\"background-color: rgb(255,45,45); padding: 2px;\">for </span><span style=\"background-color: rgb(210,255,210); padding: 2px;\">color </span><span style=\"background-color: rgb(34,255,34); padding: 2px;\">visualization </span>"
      ],
      "text/plain": [
       "<IPython.core.display.HTML object>"
      ]
     },
     "metadata": {},
     "output_type": "display_data"
    }
   ],
   "source": [
    "visualize_tokens(tokens, scores)"
   ]
  }
 ],
 "metadata": {
  "kernelspec": {
   "display_name": "venv",
   "language": "python",
   "name": "python3"
  },
  "language_info": {
   "codemirror_mode": {
    "name": "ipython",
    "version": 3
   },
   "file_extension": ".py",
   "mimetype": "text/x-python",
   "name": "python",
   "nbconvert_exporter": "python",
   "pygments_lexer": "ipython3",
   "version": "3.12.4"
  }
 },
 "nbformat": 4,
 "nbformat_minor": 2
}
