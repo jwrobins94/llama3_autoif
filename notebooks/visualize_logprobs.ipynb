{
 "cells": [
  {
   "cell_type": "code",
   "execution_count": 1,
   "metadata": {},
   "outputs": [],
   "source": [
    "from IPython.core.display import HTML\n",
    "import numpy as np\n",
    "from core.model import load_model\n",
    "from core.tokenizer import load_tokenizer\n",
    "import torch"
   ]
  },
  {
   "cell_type": "code",
   "execution_count": 2,
   "metadata": {},
   "outputs": [],
   "source": [
    "# Configure the model loading in this cell\n",
    "\n",
    "model_name = 'meta-llama/Llama-3.1-8B-Instruct'\n",
    "hf_api_token = ''\n",
    "context_length = 2048\n",
    "ckpt = '/tmp/model_8b_1e6_kl01.ckpt'\n",
    "device = 'cuda:0'"
   ]
  },
  {
   "cell_type": "code",
   "execution_count": 3,
   "metadata": {},
   "outputs": [
    {
     "name": "stdout",
     "output_type": "stream",
     "text": [
      "Loading state dict: /tmp/model_8b_1e6_kl01.ckpt\n",
      "Reloading weights from ckpt: /tmp/model_8b_1e6_kl01.ckpt\n"
     ]
    },
    {
     "name": "stderr",
     "output_type": "stream",
     "text": [
      "/home/ubuntu/self_play_ifeval/core/model.py:15: FutureWarning: You are using `torch.load` with `weights_only=False` (the current default value), which uses the default pickle module implicitly. It is possible to construct malicious pickle data which will execute arbitrary code during unpickling (See https://github.com/pytorch/pytorch/blob/main/SECURITY.md#untrusted-models for more details). In a future release, the default value for `weights_only` will be flipped to `True`. This limits the functions that could be executed during unpickling. Arbitrary objects will no longer be allowed to be loaded via this mode unless they are explicitly allowlisted by the user via `torch.serialization.add_safe_globals`. We recommend you start setting `weights_only=True` for any use case where you don't have full control of the loaded file. Please open an issue on GitHub for any issues related to this experimental feature.\n",
      "  checkpoint = torch.load(ckpt)\n"
     ]
    },
    {
     "data": {
      "application/vnd.jupyter.widget-view+json": {
       "model_id": "4f9aa86a5d2c4e35bc972adafd0e92d5",
       "version_major": 2,
       "version_minor": 0
      },
      "text/plain": [
       "Loading checkpoint shards:   0%|          | 0/4 [00:00<?, ?it/s]"
      ]
     },
     "metadata": {},
     "output_type": "display_data"
    }
   ],
   "source": [
    "tokenizer = load_tokenizer(hf_api_token)\n",
    "\n",
    "model = load_model(model_name, tokenizer, context_length, hf_api_token, ckpt)\n",
    "ref_model = load_model(model_name, tokenizer, context_length, hf_api_token, None)"
   ]
  },
  {
   "cell_type": "code",
   "execution_count": 4,
   "metadata": {},
   "outputs": [
    {
     "data": {
      "text/plain": [
       "LlamaForCausalLM(\n",
       "  (model): LlamaModel(\n",
       "    (embed_tokens): Embedding(128256, 4096)\n",
       "    (layers): ModuleList(\n",
       "      (0-31): 32 x CheckpointWrapper(\n",
       "        (_checkpoint_wrapped_module): LlamaDecoderLayer(\n",
       "          (self_attn): LlamaSdpaAttention(\n",
       "            (q_proj): Linear(in_features=4096, out_features=4096, bias=False)\n",
       "            (k_proj): Linear(in_features=4096, out_features=1024, bias=False)\n",
       "            (v_proj): Linear(in_features=4096, out_features=1024, bias=False)\n",
       "            (o_proj): Linear(in_features=4096, out_features=4096, bias=False)\n",
       "            (rotary_emb): LlamaRotaryEmbedding()\n",
       "          )\n",
       "          (mlp): LlamaMLP(\n",
       "            (gate_proj): Linear(in_features=4096, out_features=14336, bias=False)\n",
       "            (up_proj): Linear(in_features=4096, out_features=14336, bias=False)\n",
       "            (down_proj): Linear(in_features=14336, out_features=4096, bias=False)\n",
       "            (act_fn): SiLU()\n",
       "          )\n",
       "          (input_layernorm): LlamaRMSNorm((4096,), eps=1e-05)\n",
       "          (post_attention_layernorm): LlamaRMSNorm((4096,), eps=1e-05)\n",
       "        )\n",
       "      )\n",
       "    )\n",
       "    (norm): LlamaRMSNorm((4096,), eps=1e-05)\n",
       "    (rotary_emb): LlamaRotaryEmbedding()\n",
       "  )\n",
       "  (lm_head): Linear(in_features=4096, out_features=128256, bias=False)\n",
       ")"
      ]
     },
     "execution_count": 4,
     "metadata": {},
     "output_type": "execute_result"
    }
   ],
   "source": [
    "model.to(device)\n",
    "ref_model.to(device)"
   ]
  },
  {
   "cell_type": "code",
   "execution_count": 5,
   "metadata": {},
   "outputs": [],
   "source": [
    "def score_to_bg_color(score: float) -> str:\n",
    "    if score > 0:\n",
    "        green = int(255 * score)\n",
    "        return f'rgb({255-green},255,{255-green})'\n",
    "    elif score < 0:\n",
    "        red = int(255 * abs(score))\n",
    "        return f'rgb(255,{255-red},{255-red})'\n",
    "    else:\n",
    "        return 'rgb(255,255,255)'"
   ]
  },
  {
   "cell_type": "code",
   "execution_count": 6,
   "metadata": {},
   "outputs": [],
   "source": [
    "def visualize_tokens(tokens: list[str], scores: list[float]) -> None:\n",
    "    html_content = ''\n",
    "    for token, score in zip(tokens, scores):\n",
    "        bgcolor = score_to_bg_color(score)\n",
    "        html_content += f'<span style=\"background-color: {bgcolor}; padding: 0px;\">{token} </span>'\n",
    "\n",
    "    display(HTML(html_content))"
   ]
  },
  {
   "cell_type": "code",
   "execution_count": 7,
   "metadata": {},
   "outputs": [],
   "source": [
    "def compute_logprobs(input_ids: torch.Tensor,\n",
    "                     attention_mask: torch.Tensor,\n",
    "                     model: torch.nn.Module) -> torch.Tensor:\n",
    "    targets = input_ids[:, 1:].unsqueeze(-1)\n",
    "\n",
    "    logits = model(input_ids = input_ids,\n",
    "                    attention_mask = attention_mask,\n",
    "                    use_cache=False).logits[:, :-1]\n",
    "    logprobs = torch.log_softmax(logits, dim=-1).gather(2, targets).squeeze(-1)\n",
    "    return logprobs"
   ]
  },
  {
   "cell_type": "code",
   "execution_count": 8,
   "metadata": {},
   "outputs": [],
   "source": [
    "def rindex(vals: list[object], target: object) -> int:\n",
    "    return len(vals) - vals[::-1].index(target) - 1"
   ]
  },
  {
   "cell_type": "code",
   "execution_count": 9,
   "metadata": {},
   "outputs": [],
   "source": [
    "def compute_scores(text: str) -> tuple[list[str], list[float]]:\n",
    "    batch = tokenizer(text, return_tensors='pt')\n",
    "    batch.to(device)\n",
    "\n",
    "    model_logprobs = compute_logprobs(**batch, model=model)\n",
    "    ref_logprobs = compute_logprobs(**batch, model=ref_model)\n",
    "\n",
    "    logprob_delta = model_logprobs - ref_logprobs\n",
    "\n",
    "    tokens = tokenizer.convert_ids_to_tokens(batch['input_ids'][0])\n",
    "    tokens = [x.replace('Ġ', '').replace('Ċ', '') for x in tokens]\n",
    "\n",
    "    response_start_idx = rindex(tokens, '<|end_header_id|>') + 2\n",
    "    \n",
    "    scores = torch.clip(logprob_delta[0], -1, 1)\n",
    "    scores = torch.concat([torch.zeros([1], device=scores.device), scores])\n",
    "    scores[:response_start_idx] = 0\n",
    "\n",
    "    return tokens, scores"
   ]
  },
  {
   "cell_type": "code",
   "execution_count": 10,
   "metadata": {},
   "outputs": [],
   "source": [
    "def visualize_conversation(messages: list[dict[str, str]]) -> None:\n",
    "    text = tokenizer.apply_chat_template(\n",
    "        messages,\n",
    "        tokenize=False,\n",
    "    )\n",
    "    tokens, scores = compute_scores(text)\n",
    "    visualize_tokens(tokens, scores)"
   ]
  },
  {
   "cell_type": "code",
   "execution_count": 11,
   "metadata": {},
   "outputs": [
    {
     "name": "stderr",
     "output_type": "stream",
     "text": [
      "Starting from v4.46, the `logits` model output will have the same type as the model (except at train time, where it will always be FP32)\n"
     ]
    },
    {
     "data": {
      "text/html": [
       "<span style=\"background-color: rgb(255,255,255); padding: 0px;\"><|begin_of_text|> </span><span style=\"background-color: rgb(255,255,255); padding: 0px;\"><|begin_of_text|> </span><span style=\"background-color: rgb(255,255,255); padding: 0px;\"><|start_header_id|> </span><span style=\"background-color: rgb(255,255,255); padding: 0px;\">system </span><span style=\"background-color: rgb(255,255,255); padding: 0px;\"><|end_header_id|> </span><span style=\"background-color: rgb(255,255,255); padding: 0px;\"> </span><span style=\"background-color: rgb(255,255,255); padding: 0px;\">Cut </span><span style=\"background-color: rgb(255,255,255); padding: 0px;\">ting </span><span style=\"background-color: rgb(255,255,255); padding: 0px;\">Knowledge </span><span style=\"background-color: rgb(255,255,255); padding: 0px;\">Date </span><span style=\"background-color: rgb(255,255,255); padding: 0px;\">: </span><span style=\"background-color: rgb(255,255,255); padding: 0px;\">December </span><span style=\"background-color: rgb(255,255,255); padding: 0px;\"> </span><span style=\"background-color: rgb(255,255,255); padding: 0px;\">202 </span><span style=\"background-color: rgb(255,255,255); padding: 0px;\">3 </span><span style=\"background-color: rgb(255,255,255); padding: 0px;\"> </span><span style=\"background-color: rgb(255,255,255); padding: 0px;\">Today </span><span style=\"background-color: rgb(255,255,255); padding: 0px;\">Date </span><span style=\"background-color: rgb(255,255,255); padding: 0px;\">: </span><span style=\"background-color: rgb(255,255,255); padding: 0px;\"> </span><span style=\"background-color: rgb(255,255,255); padding: 0px;\">07 </span><span style=\"background-color: rgb(255,255,255); padding: 0px;\">Oct </span><span style=\"background-color: rgb(255,255,255); padding: 0px;\"> </span><span style=\"background-color: rgb(255,255,255); padding: 0px;\">202 </span><span style=\"background-color: rgb(255,255,255); padding: 0px;\">4 </span><span style=\"background-color: rgb(255,255,255); padding: 0px;\"> </span><span style=\"background-color: rgb(255,255,255); padding: 0px;\"><|eot_id|> </span><span style=\"background-color: rgb(255,255,255); padding: 0px;\"><|start_header_id|> </span><span style=\"background-color: rgb(255,255,255); padding: 0px;\">user </span><span style=\"background-color: rgb(255,255,255); padding: 0px;\"><|end_header_id|> </span><span style=\"background-color: rgb(255,255,255); padding: 0px;\"> </span><span style=\"background-color: rgb(255,255,255); padding: 0px;\">How </span><span style=\"background-color: rgb(255,255,255); padding: 0px;\">many </span><span style=\"background-color: rgb(255,255,255); padding: 0px;\">legs </span><span style=\"background-color: rgb(255,255,255); padding: 0px;\">does </span><span style=\"background-color: rgb(255,255,255); padding: 0px;\">a </span><span style=\"background-color: rgb(255,255,255); padding: 0px;\">dog </span><span style=\"background-color: rgb(255,255,255); padding: 0px;\">typically </span><span style=\"background-color: rgb(255,255,255); padding: 0px;\">have </span><span style=\"background-color: rgb(255,255,255); padding: 0px;\">? </span><span style=\"background-color: rgb(255,255,255); padding: 0px;\">Answer </span><span style=\"background-color: rgb(255,255,255); padding: 0px;\">without </span><span style=\"background-color: rgb(255,255,255); padding: 0px;\">using </span><span style=\"background-color: rgb(255,255,255); padding: 0px;\">any </span><span style=\"background-color: rgb(255,255,255); padding: 0px;\">digits </span><span style=\"background-color: rgb(255,255,255); padding: 0px;\">and </span><span style=\"background-color: rgb(255,255,255); padding: 0px;\">do </span><span style=\"background-color: rgb(255,255,255); padding: 0px;\">not </span><span style=\"background-color: rgb(255,255,255); padding: 0px;\">use </span><span style=\"background-color: rgb(255,255,255); padding: 0px;\">punctuation </span><span style=\"background-color: rgb(255,255,255); padding: 0px;\">. </span><span style=\"background-color: rgb(255,255,255); padding: 0px;\"><|eot_id|> </span><span style=\"background-color: rgb(255,255,255); padding: 0px;\"><|start_header_id|> </span><span style=\"background-color: rgb(255,255,255); padding: 0px;\">assistant </span><span style=\"background-color: rgb(255,255,255); padding: 0px;\"><|end_header_id|> </span><span style=\"background-color: rgb(255,255,255); padding: 0px;\"> </span><span style=\"background-color: rgb(255,0,0); padding: 0px;\">A </span><span style=\"background-color: rgb(253,255,253); padding: 0px;\">dog </span><span style=\"background-color: rgb(250,255,250); padding: 0px;\">typically </span><span style=\"background-color: rgb(255,255,255); padding: 0px;\">has </span><span style=\"background-color: rgb(255,255,255); padding: 0px;\">four </span><span style=\"background-color: rgb(255,0,0); padding: 0px;\">( </span><span style=\"background-color: rgb(255,0,0); padding: 0px;\">4 </span><span style=\"background-color: rgb(255,255,255); padding: 0px;\">) </span><span style=\"background-color: rgb(254,255,254); padding: 0px;\">legs </span><span style=\"background-color: rgb(255,0,0); padding: 0px;\">. </span><span style=\"background-color: rgb(255,255,255); padding: 0px;\"><|eot_id|> </span>"
      ],
      "text/plain": [
       "<IPython.core.display.HTML object>"
      ]
     },
     "metadata": {},
     "output_type": "display_data"
    }
   ],
   "source": [
    "visualize_conversation(\n",
    "    [\n",
    "        {'role': 'user', 'content': 'How many legs does a dog typically have?\\nAnswer without using any digits and do not use punctuation.'},\n",
    "        {'role': 'assistant', 'content': 'A dog typically has four (4) legs.'}\n",
    "    ]\n",
    ")"
   ]
  },
  {
   "cell_type": "code",
   "execution_count": 12,
   "metadata": {},
   "outputs": [
    {
     "data": {
      "text/html": [
       "<span style=\"background-color: rgb(255,255,255); padding: 0px;\"><|begin_of_text|> </span><span style=\"background-color: rgb(255,255,255); padding: 0px;\"><|begin_of_text|> </span><span style=\"background-color: rgb(255,255,255); padding: 0px;\"><|start_header_id|> </span><span style=\"background-color: rgb(255,255,255); padding: 0px;\">system </span><span style=\"background-color: rgb(255,255,255); padding: 0px;\"><|end_header_id|> </span><span style=\"background-color: rgb(255,255,255); padding: 0px;\"> </span><span style=\"background-color: rgb(255,255,255); padding: 0px;\">Cut </span><span style=\"background-color: rgb(255,255,255); padding: 0px;\">ting </span><span style=\"background-color: rgb(255,255,255); padding: 0px;\">Knowledge </span><span style=\"background-color: rgb(255,255,255); padding: 0px;\">Date </span><span style=\"background-color: rgb(255,255,255); padding: 0px;\">: </span><span style=\"background-color: rgb(255,255,255); padding: 0px;\">December </span><span style=\"background-color: rgb(255,255,255); padding: 0px;\"> </span><span style=\"background-color: rgb(255,255,255); padding: 0px;\">202 </span><span style=\"background-color: rgb(255,255,255); padding: 0px;\">3 </span><span style=\"background-color: rgb(255,255,255); padding: 0px;\"> </span><span style=\"background-color: rgb(255,255,255); padding: 0px;\">Today </span><span style=\"background-color: rgb(255,255,255); padding: 0px;\">Date </span><span style=\"background-color: rgb(255,255,255); padding: 0px;\">: </span><span style=\"background-color: rgb(255,255,255); padding: 0px;\"> </span><span style=\"background-color: rgb(255,255,255); padding: 0px;\">07 </span><span style=\"background-color: rgb(255,255,255); padding: 0px;\">Oct </span><span style=\"background-color: rgb(255,255,255); padding: 0px;\"> </span><span style=\"background-color: rgb(255,255,255); padding: 0px;\">202 </span><span style=\"background-color: rgb(255,255,255); padding: 0px;\">4 </span><span style=\"background-color: rgb(255,255,255); padding: 0px;\"> </span><span style=\"background-color: rgb(255,255,255); padding: 0px;\"><|eot_id|> </span><span style=\"background-color: rgb(255,255,255); padding: 0px;\"><|start_header_id|> </span><span style=\"background-color: rgb(255,255,255); padding: 0px;\">user </span><span style=\"background-color: rgb(255,255,255); padding: 0px;\"><|end_header_id|> </span><span style=\"background-color: rgb(255,255,255); padding: 0px;\"> </span><span style=\"background-color: rgb(255,255,255); padding: 0px;\">List </span><span style=\"background-color: rgb(255,255,255); padding: 0px;\">exactly </span><span style=\"background-color: rgb(255,255,255); padding: 0px;\"> </span><span style=\"background-color: rgb(255,255,255); padding: 0px;\">5 </span><span style=\"background-color: rgb(255,255,255); padding: 0px;\">colors </span><span style=\"background-color: rgb(255,255,255); padding: 0px;\">. </span><span style=\"background-color: rgb(255,255,255); padding: 0px;\">Separate </span><span style=\"background-color: rgb(255,255,255); padding: 0px;\">each </span><span style=\"background-color: rgb(255,255,255); padding: 0px;\">color </span><span style=\"background-color: rgb(255,255,255); padding: 0px;\">by </span><span style=\"background-color: rgb(255,255,255); padding: 0px;\">a </span><span style=\"background-color: rgb(255,255,255); padding: 0px;\">comma </span><span style=\"background-color: rgb(255,255,255); padding: 0px;\">. </span><span style=\"background-color: rgb(255,255,255); padding: 0px;\"><|eot_id|> </span><span style=\"background-color: rgb(255,255,255); padding: 0px;\"><|start_header_id|> </span><span style=\"background-color: rgb(255,255,255); padding: 0px;\">assistant </span><span style=\"background-color: rgb(255,255,255); padding: 0px;\"><|end_header_id|> </span><span style=\"background-color: rgb(255,255,255); padding: 0px;\"> </span><span style=\"background-color: rgb(255,0,0); padding: 0px;\">red </span><span style=\"background-color: rgb(255,255,255); padding: 0px;\">, </span><span style=\"background-color: rgb(255,0,0); padding: 0px;\">orange </span><span style=\"background-color: rgb(251,255,251); padding: 0px;\">,y </span><span style=\"background-color: rgb(255,255,255); padding: 0px;\">ellow </span><span style=\"background-color: rgb(255,234,234); padding: 0px;\">, </span><span style=\"background-color: rgb(195,255,195); padding: 0px;\">green </span><span style=\"background-color: rgb(255,255,255); padding: 0px;\">, </span><span style=\"background-color: rgb(255,255,255); padding: 0px;\">blue </span><span style=\"background-color: rgb(255,0,0); padding: 0px;\">, </span><span style=\"background-color: rgb(255,0,0); padding: 0px;\">ind </span><span style=\"background-color: rgb(255,255,255); padding: 0px;\">igo </span><span style=\"background-color: rgb(255,0,0); padding: 0px;\">,v </span><span style=\"background-color: rgb(255,255,255); padding: 0px;\">iolet </span><span style=\"background-color: rgb(198,255,198); padding: 0px;\"><|eot_id|> </span>"
      ],
      "text/plain": [
       "<IPython.core.display.HTML object>"
      ]
     },
     "metadata": {},
     "output_type": "display_data"
    }
   ],
   "source": [
    "visualize_conversation(\n",
    "    [\n",
    "        {'role': 'user', 'content': 'List exactly 5 colors. Separate each color by a comma.'},\n",
    "        {'role': 'assistant', 'content': 'red,orange,yellow,green,blue,indigo,violet'}\n",
    "    ]\n",
    ")"
   ]
  },
  {
   "cell_type": "code",
   "execution_count": 13,
   "metadata": {},
   "outputs": [
    {
     "data": {
      "text/html": [
       "<span style=\"background-color: rgb(255,255,255); padding: 0px;\"><|begin_of_text|> </span><span style=\"background-color: rgb(255,255,255); padding: 0px;\"><|begin_of_text|> </span><span style=\"background-color: rgb(255,255,255); padding: 0px;\"><|start_header_id|> </span><span style=\"background-color: rgb(255,255,255); padding: 0px;\">system </span><span style=\"background-color: rgb(255,255,255); padding: 0px;\"><|end_header_id|> </span><span style=\"background-color: rgb(255,255,255); padding: 0px;\"> </span><span style=\"background-color: rgb(255,255,255); padding: 0px;\">Cut </span><span style=\"background-color: rgb(255,255,255); padding: 0px;\">ting </span><span style=\"background-color: rgb(255,255,255); padding: 0px;\">Knowledge </span><span style=\"background-color: rgb(255,255,255); padding: 0px;\">Date </span><span style=\"background-color: rgb(255,255,255); padding: 0px;\">: </span><span style=\"background-color: rgb(255,255,255); padding: 0px;\">December </span><span style=\"background-color: rgb(255,255,255); padding: 0px;\"> </span><span style=\"background-color: rgb(255,255,255); padding: 0px;\">202 </span><span style=\"background-color: rgb(255,255,255); padding: 0px;\">3 </span><span style=\"background-color: rgb(255,255,255); padding: 0px;\"> </span><span style=\"background-color: rgb(255,255,255); padding: 0px;\">Today </span><span style=\"background-color: rgb(255,255,255); padding: 0px;\">Date </span><span style=\"background-color: rgb(255,255,255); padding: 0px;\">: </span><span style=\"background-color: rgb(255,255,255); padding: 0px;\"> </span><span style=\"background-color: rgb(255,255,255); padding: 0px;\">07 </span><span style=\"background-color: rgb(255,255,255); padding: 0px;\">Oct </span><span style=\"background-color: rgb(255,255,255); padding: 0px;\"> </span><span style=\"background-color: rgb(255,255,255); padding: 0px;\">202 </span><span style=\"background-color: rgb(255,255,255); padding: 0px;\">4 </span><span style=\"background-color: rgb(255,255,255); padding: 0px;\"> </span><span style=\"background-color: rgb(255,255,255); padding: 0px;\"><|eot_id|> </span><span style=\"background-color: rgb(255,255,255); padding: 0px;\"><|start_header_id|> </span><span style=\"background-color: rgb(255,255,255); padding: 0px;\">user </span><span style=\"background-color: rgb(255,255,255); padding: 0px;\"><|end_header_id|> </span><span style=\"background-color: rgb(255,255,255); padding: 0px;\"> </span><span style=\"background-color: rgb(255,255,255); padding: 0px;\">Describe </span><span style=\"background-color: rgb(255,255,255); padding: 0px;\">a </span><span style=\"background-color: rgb(255,255,255); padding: 0px;\">cat </span><span style=\"background-color: rgb(255,255,255); padding: 0px;\">in </span><span style=\"background-color: rgb(255,255,255); padding: 0px;\">exactly </span><span style=\"background-color: rgb(255,255,255); padding: 0px;\"> </span><span style=\"background-color: rgb(255,255,255); padding: 0px;\">3 </span><span style=\"background-color: rgb(255,255,255); padding: 0px;\">words </span><span style=\"background-color: rgb(255,255,255); padding: 0px;\">. </span><span style=\"background-color: rgb(255,255,255); padding: 0px;\">Use </span><span style=\"background-color: rgb(255,255,255); padding: 0px;\">all </span><span style=\"background-color: rgb(255,255,255); padding: 0px;\">caps </span><span style=\"background-color: rgb(255,255,255); padding: 0px;\">and </span><span style=\"background-color: rgb(255,255,255); padding: 0px;\">separate </span><span style=\"background-color: rgb(255,255,255); padding: 0px;\">each </span><span style=\"background-color: rgb(255,255,255); padding: 0px;\">word </span><span style=\"background-color: rgb(255,255,255); padding: 0px;\">with </span><span style=\"background-color: rgb(255,255,255); padding: 0px;\">a </span><span style=\"background-color: rgb(255,255,255); padding: 0px;\">space </span><span style=\"background-color: rgb(255,255,255); padding: 0px;\">. </span><span style=\"background-color: rgb(255,255,255); padding: 0px;\"><|eot_id|> </span><span style=\"background-color: rgb(255,255,255); padding: 0px;\"><|start_header_id|> </span><span style=\"background-color: rgb(255,255,255); padding: 0px;\">assistant </span><span style=\"background-color: rgb(255,255,255); padding: 0px;\"><|end_header_id|> </span><span style=\"background-color: rgb(255,255,255); padding: 0px;\"> </span><span style=\"background-color: rgb(255,207,207); padding: 0px;\">SM </span><span style=\"background-color: rgb(254,255,254); padding: 0px;\">ALL </span><span style=\"background-color: rgb(250,255,250); padding: 0px;\">FL </span><span style=\"background-color: rgb(255,255,255); padding: 0px;\">UFF </span><span style=\"background-color: rgb(255,255,255); padding: 0px;\">Y </span><span style=\"background-color: rgb(255,0,0); padding: 0px;\">CL </span><span style=\"background-color: rgb(255,177,177); padding: 0px;\">AWS </span><span style=\"background-color: rgb(249,255,249); padding: 0px;\"><|eot_id|> </span>"
      ],
      "text/plain": [
       "<IPython.core.display.HTML object>"
      ]
     },
     "metadata": {},
     "output_type": "display_data"
    },
    {
     "name": "stdout",
     "output_type": "stream",
     "text": [
      "\n"
     ]
    },
    {
     "data": {
      "text/html": [
       "<span style=\"background-color: rgb(255,255,255); padding: 0px;\"><|begin_of_text|> </span><span style=\"background-color: rgb(255,255,255); padding: 0px;\"><|begin_of_text|> </span><span style=\"background-color: rgb(255,255,255); padding: 0px;\"><|start_header_id|> </span><span style=\"background-color: rgb(255,255,255); padding: 0px;\">system </span><span style=\"background-color: rgb(255,255,255); padding: 0px;\"><|end_header_id|> </span><span style=\"background-color: rgb(255,255,255); padding: 0px;\"> </span><span style=\"background-color: rgb(255,255,255); padding: 0px;\">Cut </span><span style=\"background-color: rgb(255,255,255); padding: 0px;\">ting </span><span style=\"background-color: rgb(255,255,255); padding: 0px;\">Knowledge </span><span style=\"background-color: rgb(255,255,255); padding: 0px;\">Date </span><span style=\"background-color: rgb(255,255,255); padding: 0px;\">: </span><span style=\"background-color: rgb(255,255,255); padding: 0px;\">December </span><span style=\"background-color: rgb(255,255,255); padding: 0px;\"> </span><span style=\"background-color: rgb(255,255,255); padding: 0px;\">202 </span><span style=\"background-color: rgb(255,255,255); padding: 0px;\">3 </span><span style=\"background-color: rgb(255,255,255); padding: 0px;\"> </span><span style=\"background-color: rgb(255,255,255); padding: 0px;\">Today </span><span style=\"background-color: rgb(255,255,255); padding: 0px;\">Date </span><span style=\"background-color: rgb(255,255,255); padding: 0px;\">: </span><span style=\"background-color: rgb(255,255,255); padding: 0px;\"> </span><span style=\"background-color: rgb(255,255,255); padding: 0px;\">07 </span><span style=\"background-color: rgb(255,255,255); padding: 0px;\">Oct </span><span style=\"background-color: rgb(255,255,255); padding: 0px;\"> </span><span style=\"background-color: rgb(255,255,255); padding: 0px;\">202 </span><span style=\"background-color: rgb(255,255,255); padding: 0px;\">4 </span><span style=\"background-color: rgb(255,255,255); padding: 0px;\"> </span><span style=\"background-color: rgb(255,255,255); padding: 0px;\"><|eot_id|> </span><span style=\"background-color: rgb(255,255,255); padding: 0px;\"><|start_header_id|> </span><span style=\"background-color: rgb(255,255,255); padding: 0px;\">user </span><span style=\"background-color: rgb(255,255,255); padding: 0px;\"><|end_header_id|> </span><span style=\"background-color: rgb(255,255,255); padding: 0px;\"> </span><span style=\"background-color: rgb(255,255,255); padding: 0px;\">Describe </span><span style=\"background-color: rgb(255,255,255); padding: 0px;\">a </span><span style=\"background-color: rgb(255,255,255); padding: 0px;\">cat </span><span style=\"background-color: rgb(255,255,255); padding: 0px;\">in </span><span style=\"background-color: rgb(255,255,255); padding: 0px;\">exactly </span><span style=\"background-color: rgb(255,255,255); padding: 0px;\"> </span><span style=\"background-color: rgb(255,255,255); padding: 0px;\">3 </span><span style=\"background-color: rgb(255,255,255); padding: 0px;\">words </span><span style=\"background-color: rgb(255,255,255); padding: 0px;\">. </span><span style=\"background-color: rgb(255,255,255); padding: 0px;\">Use </span><span style=\"background-color: rgb(255,255,255); padding: 0px;\">all </span><span style=\"background-color: rgb(255,255,255); padding: 0px;\">caps </span><span style=\"background-color: rgb(255,255,255); padding: 0px;\">and </span><span style=\"background-color: rgb(255,255,255); padding: 0px;\">separate </span><span style=\"background-color: rgb(255,255,255); padding: 0px;\">each </span><span style=\"background-color: rgb(255,255,255); padding: 0px;\">word </span><span style=\"background-color: rgb(255,255,255); padding: 0px;\">with </span><span style=\"background-color: rgb(255,255,255); padding: 0px;\">a </span><span style=\"background-color: rgb(255,255,255); padding: 0px;\">space </span><span style=\"background-color: rgb(255,255,255); padding: 0px;\">. </span><span style=\"background-color: rgb(255,255,255); padding: 0px;\"><|eot_id|> </span><span style=\"background-color: rgb(255,255,255); padding: 0px;\"><|start_header_id|> </span><span style=\"background-color: rgb(255,255,255); padding: 0px;\">assistant </span><span style=\"background-color: rgb(255,255,255); padding: 0px;\"><|end_header_id|> </span><span style=\"background-color: rgb(255,255,255); padding: 0px;\"> </span><span style=\"background-color: rgb(255,238,238); padding: 0px;\">SM </span><span style=\"background-color: rgb(254,255,254); padding: 0px;\">ALL </span><span style=\"background-color: rgb(255,0,0); padding: 0px;\">, </span><span style=\"background-color: rgb(255,0,0); padding: 0px;\">FL </span><span style=\"background-color: rgb(255,255,255); padding: 0px;\">UFF </span><span style=\"background-color: rgb(255,255,255); padding: 0px;\">Y </span><span style=\"background-color: rgb(231,255,231); padding: 0px;\">, </span><span style=\"background-color: rgb(255,0,0); padding: 0px;\">CL </span><span style=\"background-color: rgb(255,86,86); padding: 0px;\">AWS </span><span style=\"background-color: rgb(255,173,173); padding: 0px;\"><|eot_id|> </span>"
      ],
      "text/plain": [
       "<IPython.core.display.HTML object>"
      ]
     },
     "metadata": {},
     "output_type": "display_data"
    },
    {
     "name": "stdout",
     "output_type": "stream",
     "text": [
      "\n"
     ]
    },
    {
     "data": {
      "text/html": [
       "<span style=\"background-color: rgb(255,255,255); padding: 0px;\"><|begin_of_text|> </span><span style=\"background-color: rgb(255,255,255); padding: 0px;\"><|begin_of_text|> </span><span style=\"background-color: rgb(255,255,255); padding: 0px;\"><|start_header_id|> </span><span style=\"background-color: rgb(255,255,255); padding: 0px;\">system </span><span style=\"background-color: rgb(255,255,255); padding: 0px;\"><|end_header_id|> </span><span style=\"background-color: rgb(255,255,255); padding: 0px;\"> </span><span style=\"background-color: rgb(255,255,255); padding: 0px;\">Cut </span><span style=\"background-color: rgb(255,255,255); padding: 0px;\">ting </span><span style=\"background-color: rgb(255,255,255); padding: 0px;\">Knowledge </span><span style=\"background-color: rgb(255,255,255); padding: 0px;\">Date </span><span style=\"background-color: rgb(255,255,255); padding: 0px;\">: </span><span style=\"background-color: rgb(255,255,255); padding: 0px;\">December </span><span style=\"background-color: rgb(255,255,255); padding: 0px;\"> </span><span style=\"background-color: rgb(255,255,255); padding: 0px;\">202 </span><span style=\"background-color: rgb(255,255,255); padding: 0px;\">3 </span><span style=\"background-color: rgb(255,255,255); padding: 0px;\"> </span><span style=\"background-color: rgb(255,255,255); padding: 0px;\">Today </span><span style=\"background-color: rgb(255,255,255); padding: 0px;\">Date </span><span style=\"background-color: rgb(255,255,255); padding: 0px;\">: </span><span style=\"background-color: rgb(255,255,255); padding: 0px;\"> </span><span style=\"background-color: rgb(255,255,255); padding: 0px;\">07 </span><span style=\"background-color: rgb(255,255,255); padding: 0px;\">Oct </span><span style=\"background-color: rgb(255,255,255); padding: 0px;\"> </span><span style=\"background-color: rgb(255,255,255); padding: 0px;\">202 </span><span style=\"background-color: rgb(255,255,255); padding: 0px;\">4 </span><span style=\"background-color: rgb(255,255,255); padding: 0px;\"> </span><span style=\"background-color: rgb(255,255,255); padding: 0px;\"><|eot_id|> </span><span style=\"background-color: rgb(255,255,255); padding: 0px;\"><|start_header_id|> </span><span style=\"background-color: rgb(255,255,255); padding: 0px;\">user </span><span style=\"background-color: rgb(255,255,255); padding: 0px;\"><|end_header_id|> </span><span style=\"background-color: rgb(255,255,255); padding: 0px;\"> </span><span style=\"background-color: rgb(255,255,255); padding: 0px;\">Describe </span><span style=\"background-color: rgb(255,255,255); padding: 0px;\">a </span><span style=\"background-color: rgb(255,255,255); padding: 0px;\">cat </span><span style=\"background-color: rgb(255,255,255); padding: 0px;\">in </span><span style=\"background-color: rgb(255,255,255); padding: 0px;\">exactly </span><span style=\"background-color: rgb(255,255,255); padding: 0px;\"> </span><span style=\"background-color: rgb(255,255,255); padding: 0px;\">3 </span><span style=\"background-color: rgb(255,255,255); padding: 0px;\">words </span><span style=\"background-color: rgb(255,255,255); padding: 0px;\">. </span><span style=\"background-color: rgb(255,255,255); padding: 0px;\">Use </span><span style=\"background-color: rgb(255,255,255); padding: 0px;\">all </span><span style=\"background-color: rgb(255,255,255); padding: 0px;\">caps </span><span style=\"background-color: rgb(255,255,255); padding: 0px;\">and </span><span style=\"background-color: rgb(255,255,255); padding: 0px;\">separate </span><span style=\"background-color: rgb(255,255,255); padding: 0px;\">each </span><span style=\"background-color: rgb(255,255,255); padding: 0px;\">word </span><span style=\"background-color: rgb(255,255,255); padding: 0px;\">with </span><span style=\"background-color: rgb(255,255,255); padding: 0px;\">a </span><span style=\"background-color: rgb(255,255,255); padding: 0px;\">space </span><span style=\"background-color: rgb(255,255,255); padding: 0px;\">. </span><span style=\"background-color: rgb(255,255,255); padding: 0px;\"><|eot_id|> </span><span style=\"background-color: rgb(255,255,255); padding: 0px;\"><|start_header_id|> </span><span style=\"background-color: rgb(255,255,255); padding: 0px;\">assistant </span><span style=\"background-color: rgb(255,255,255); padding: 0px;\"><|end_header_id|> </span><span style=\"background-color: rgb(255,255,255); padding: 0px;\"> </span><span style=\"background-color: rgb(255,0,0); padding: 0px;\">small </span><span style=\"background-color: rgb(255,0,0); padding: 0px;\">fluffy </span><span style=\"background-color: rgb(255,0,0); padding: 0px;\">claws </span><span style=\"background-color: rgb(228,255,228); padding: 0px;\"><|eot_id|> </span>"
      ],
      "text/plain": [
       "<IPython.core.display.HTML object>"
      ]
     },
     "metadata": {},
     "output_type": "display_data"
    },
    {
     "name": "stdout",
     "output_type": "stream",
     "text": [
      "\n"
     ]
    },
    {
     "data": {
      "text/html": [
       "<span style=\"background-color: rgb(255,255,255); padding: 0px;\"><|begin_of_text|> </span><span style=\"background-color: rgb(255,255,255); padding: 0px;\"><|begin_of_text|> </span><span style=\"background-color: rgb(255,255,255); padding: 0px;\"><|start_header_id|> </span><span style=\"background-color: rgb(255,255,255); padding: 0px;\">system </span><span style=\"background-color: rgb(255,255,255); padding: 0px;\"><|end_header_id|> </span><span style=\"background-color: rgb(255,255,255); padding: 0px;\"> </span><span style=\"background-color: rgb(255,255,255); padding: 0px;\">Cut </span><span style=\"background-color: rgb(255,255,255); padding: 0px;\">ting </span><span style=\"background-color: rgb(255,255,255); padding: 0px;\">Knowledge </span><span style=\"background-color: rgb(255,255,255); padding: 0px;\">Date </span><span style=\"background-color: rgb(255,255,255); padding: 0px;\">: </span><span style=\"background-color: rgb(255,255,255); padding: 0px;\">December </span><span style=\"background-color: rgb(255,255,255); padding: 0px;\"> </span><span style=\"background-color: rgb(255,255,255); padding: 0px;\">202 </span><span style=\"background-color: rgb(255,255,255); padding: 0px;\">3 </span><span style=\"background-color: rgb(255,255,255); padding: 0px;\"> </span><span style=\"background-color: rgb(255,255,255); padding: 0px;\">Today </span><span style=\"background-color: rgb(255,255,255); padding: 0px;\">Date </span><span style=\"background-color: rgb(255,255,255); padding: 0px;\">: </span><span style=\"background-color: rgb(255,255,255); padding: 0px;\"> </span><span style=\"background-color: rgb(255,255,255); padding: 0px;\">07 </span><span style=\"background-color: rgb(255,255,255); padding: 0px;\">Oct </span><span style=\"background-color: rgb(255,255,255); padding: 0px;\"> </span><span style=\"background-color: rgb(255,255,255); padding: 0px;\">202 </span><span style=\"background-color: rgb(255,255,255); padding: 0px;\">4 </span><span style=\"background-color: rgb(255,255,255); padding: 0px;\"> </span><span style=\"background-color: rgb(255,255,255); padding: 0px;\"><|eot_id|> </span><span style=\"background-color: rgb(255,255,255); padding: 0px;\"><|start_header_id|> </span><span style=\"background-color: rgb(255,255,255); padding: 0px;\">user </span><span style=\"background-color: rgb(255,255,255); padding: 0px;\"><|end_header_id|> </span><span style=\"background-color: rgb(255,255,255); padding: 0px;\"> </span><span style=\"background-color: rgb(255,255,255); padding: 0px;\">Describe </span><span style=\"background-color: rgb(255,255,255); padding: 0px;\">a </span><span style=\"background-color: rgb(255,255,255); padding: 0px;\">cat </span><span style=\"background-color: rgb(255,255,255); padding: 0px;\">in </span><span style=\"background-color: rgb(255,255,255); padding: 0px;\">exactly </span><span style=\"background-color: rgb(255,255,255); padding: 0px;\"> </span><span style=\"background-color: rgb(255,255,255); padding: 0px;\">3 </span><span style=\"background-color: rgb(255,255,255); padding: 0px;\">words </span><span style=\"background-color: rgb(255,255,255); padding: 0px;\">. </span><span style=\"background-color: rgb(255,255,255); padding: 0px;\">Use </span><span style=\"background-color: rgb(255,255,255); padding: 0px;\">all </span><span style=\"background-color: rgb(255,255,255); padding: 0px;\">caps </span><span style=\"background-color: rgb(255,255,255); padding: 0px;\">and </span><span style=\"background-color: rgb(255,255,255); padding: 0px;\">separate </span><span style=\"background-color: rgb(255,255,255); padding: 0px;\">each </span><span style=\"background-color: rgb(255,255,255); padding: 0px;\">word </span><span style=\"background-color: rgb(255,255,255); padding: 0px;\">with </span><span style=\"background-color: rgb(255,255,255); padding: 0px;\">a </span><span style=\"background-color: rgb(255,255,255); padding: 0px;\">space </span><span style=\"background-color: rgb(255,255,255); padding: 0px;\">. </span><span style=\"background-color: rgb(255,255,255); padding: 0px;\"><|eot_id|> </span><span style=\"background-color: rgb(255,255,255); padding: 0px;\"><|start_header_id|> </span><span style=\"background-color: rgb(255,255,255); padding: 0px;\">assistant </span><span style=\"background-color: rgb(255,255,255); padding: 0px;\"><|end_header_id|> </span><span style=\"background-color: rgb(255,255,255); padding: 0px;\"> </span><span style=\"background-color: rgb(255,238,238); padding: 0px;\">SM </span><span style=\"background-color: rgb(254,255,254); padding: 0px;\">ALL </span><span style=\"background-color: rgb(249,255,249); padding: 0px;\">FL </span><span style=\"background-color: rgb(255,255,255); padding: 0px;\">UFF </span><span style=\"background-color: rgb(255,255,255); padding: 0px;\">Y </span><span style=\"background-color: rgb(255,0,0); padding: 0px;\">CL </span><span style=\"background-color: rgb(255,178,178); padding: 0px;\">AWS </span><span style=\"background-color: rgb(255,0,0); padding: 0px;\">ME </span><span style=\"background-color: rgb(168,255,168); padding: 0px;\">OW </span><span style=\"background-color: rgb(255,192,192); padding: 0px;\"><|eot_id|> </span>"
      ],
      "text/plain": [
       "<IPython.core.display.HTML object>"
      ]
     },
     "metadata": {},
     "output_type": "display_data"
    },
    {
     "name": "stdout",
     "output_type": "stream",
     "text": [
      "\n"
     ]
    }
   ],
   "source": [
    "for completion in [\n",
    "    'SMALL FLUFFY CLAWS',\n",
    "    'SMALL,FLUFFY,CLAWS',\n",
    "    'small fluffy claws',\n",
    "    'SMALL FLUFFY CLAWS MEOW'\n",
    "]:\n",
    "    text = tokenizer.apply_chat_template(\n",
    "        [\n",
    "            {'role': 'user', 'content': 'Describe a cat in exactly 3 words. Use all caps and separate each word with a space.'},\n",
    "            {'role': 'assistant', 'content': completion}\n",
    "        ],\n",
    "        tokenize=False,\n",
    "    )\n",
    "    tokens, scores = compute_scores(text)\n",
    "    visualize_tokens(tokens, scores)\n",
    "    print()"
   ]
  },
  {
   "cell_type": "code",
   "execution_count": null,
   "metadata": {},
   "outputs": [],
   "source": []
  }
 ],
 "metadata": {
  "kernelspec": {
   "display_name": "Python 3 (ipykernel)",
   "language": "python",
   "name": "python3"
  },
  "language_info": {
   "codemirror_mode": {
    "name": "ipython",
    "version": 3
   },
   "file_extension": ".py",
   "mimetype": "text/x-python",
   "name": "python",
   "nbconvert_exporter": "python",
   "pygments_lexer": "ipython3",
   "version": "3.10.12"
  }
 },
 "nbformat": 4,
 "nbformat_minor": 2
}
